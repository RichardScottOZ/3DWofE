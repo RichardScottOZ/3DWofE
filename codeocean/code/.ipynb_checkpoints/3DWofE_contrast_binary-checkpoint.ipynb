{
 "cells": [
  {
   "cell_type": "code",
   "execution_count": 2,
   "id": "9790102e",
   "metadata": {},
   "outputs": [],
   "source": [
    "# Contrast and studentized contrast of binary evidential models\n",
    "# The input is a csv file with the following columns respectively: X, Y, Z, Grade (Target Element), Fac1, Fac2, ...\n",
    "# -------\n",
    "import csv\n",
    "import itertools\n",
    "import math\n",
    "import pandas as pd\n",
    "import os"
   ]
  },
  {
   "cell_type": "code",
   "execution_count": 10,
   "id": "aedf8521",
   "metadata": {},
   "outputs": [
    {
     "data": {
      "text/html": [
       "<div>\n",
       "<style scoped>\n",
       "    .dataframe tbody tr th:only-of-type {\n",
       "        vertical-align: middle;\n",
       "    }\n",
       "\n",
       "    .dataframe tbody tr th {\n",
       "        vertical-align: top;\n",
       "    }\n",
       "\n",
       "    .dataframe thead th {\n",
       "        text-align: right;\n",
       "    }\n",
       "</style>\n",
       "<table border=\"1\" class=\"dataframe\">\n",
       "  <thead>\n",
       "    <tr style=\"text-align: right;\">\n",
       "      <th></th>\n",
       "      <th>X</th>\n",
       "      <th>Y</th>\n",
       "      <th>Z</th>\n",
       "      <th>Grade</th>\n",
       "      <th>F1</th>\n",
       "      <th>F2</th>\n",
       "      <th>F3</th>\n",
       "      <th>F4</th>\n",
       "      <th>F5</th>\n",
       "      <th>F6</th>\n",
       "      <th>F7</th>\n",
       "      <th>F8</th>\n",
       "    </tr>\n",
       "  </thead>\n",
       "  <tbody>\n",
       "    <tr>\n",
       "      <th>0</th>\n",
       "      <td>388560</td>\n",
       "      <td>3310250</td>\n",
       "      <td>2240</td>\n",
       "      <td>0.1126</td>\n",
       "      <td>1</td>\n",
       "      <td>0</td>\n",
       "      <td>0</td>\n",
       "      <td>0</td>\n",
       "      <td>0</td>\n",
       "      <td>0</td>\n",
       "      <td>1</td>\n",
       "      <td>1</td>\n",
       "    </tr>\n",
       "    <tr>\n",
       "      <th>1</th>\n",
       "      <td>388560</td>\n",
       "      <td>3310250</td>\n",
       "      <td>2250</td>\n",
       "      <td>0.0872</td>\n",
       "      <td>1</td>\n",
       "      <td>0</td>\n",
       "      <td>0</td>\n",
       "      <td>0</td>\n",
       "      <td>0</td>\n",
       "      <td>0</td>\n",
       "      <td>1</td>\n",
       "      <td>1</td>\n",
       "    </tr>\n",
       "    <tr>\n",
       "      <th>2</th>\n",
       "      <td>388560</td>\n",
       "      <td>3310250</td>\n",
       "      <td>2260</td>\n",
       "      <td>0.0782</td>\n",
       "      <td>1</td>\n",
       "      <td>0</td>\n",
       "      <td>0</td>\n",
       "      <td>0</td>\n",
       "      <td>0</td>\n",
       "      <td>0</td>\n",
       "      <td>1</td>\n",
       "      <td>1</td>\n",
       "    </tr>\n",
       "    <tr>\n",
       "      <th>3</th>\n",
       "      <td>388560</td>\n",
       "      <td>3310250</td>\n",
       "      <td>2270</td>\n",
       "      <td>0.0691</td>\n",
       "      <td>1</td>\n",
       "      <td>0</td>\n",
       "      <td>0</td>\n",
       "      <td>0</td>\n",
       "      <td>0</td>\n",
       "      <td>0</td>\n",
       "      <td>1</td>\n",
       "      <td>1</td>\n",
       "    </tr>\n",
       "    <tr>\n",
       "      <th>4</th>\n",
       "      <td>388560</td>\n",
       "      <td>3310250</td>\n",
       "      <td>2280</td>\n",
       "      <td>0.0674</td>\n",
       "      <td>1</td>\n",
       "      <td>0</td>\n",
       "      <td>0</td>\n",
       "      <td>0</td>\n",
       "      <td>0</td>\n",
       "      <td>0</td>\n",
       "      <td>1</td>\n",
       "      <td>1</td>\n",
       "    </tr>\n",
       "  </tbody>\n",
       "</table>\n",
       "</div>"
      ],
      "text/plain": [
       "        X        Y     Z   Grade  F1  F2  F3  F4  F5  F6  F7  F8\n",
       "0  388560  3310250  2240  0.1126   1   0   0   0   0   0   1   1\n",
       "1  388560  3310250  2250  0.0872   1   0   0   0   0   0   1   1\n",
       "2  388560  3310250  2260  0.0782   1   0   0   0   0   0   1   1\n",
       "3  388560  3310250  2270  0.0691   1   0   0   0   0   0   1   1\n",
       "4  388560  3310250  2280  0.0674   1   0   0   0   0   0   1   1"
      ]
     },
     "execution_count": 10,
     "metadata": {},
     "output_type": "execute_result"
    }
   ],
   "source": [
    "input_file_df = pd.read_csv(\"../data/Input_Binary.csv\", header=None, names=['X','Y','Z','Grade','F1','F2','F3','F4','F5','F6','F7','F8'])\n",
    "#print(input_file_df.shape)\n",
    "num_fac_df = input_file_df.shape[1] - 4\n",
    "input_file_df.head()"
   ]
  },
  {
   "cell_type": "code",
   "execution_count": 36,
   "id": "df197266",
   "metadata": {},
   "outputs": [
    {
     "name": "stdout",
     "output_type": "stream",
     "text": [
      "529211 14342\n"
     ]
    }
   ],
   "source": [
    "threshold_target = 0.4\n",
    "threshold_fac = 0.5\n",
    "\n",
    "# Number of voxels for different items\n",
    "# NumT: total number of voxels\n",
    "# NumD: number of known mineralization-bearing voxels\n",
    "\n",
    "NumT_df = input_file_df.shape[0]\n",
    "NumD_df = input_file_df.loc[input_file_df['Grade'] > threshold_target].shape[0]\n",
    "print(NumT_df, NumD_df)             "
   ]
  },
  {
   "cell_type": "code",
   "execution_count": 47,
   "id": "89cb67cc",
   "metadata": {},
   "outputs": [
    {
     "name": "stdout",
     "output_type": "stream",
     "text": [
      "[423190, 44249, 220, 2258, 8, 4436, 297704, 435911]\n"
     ]
    }
   ],
   "source": [
    "# NumB: number of anomalous voxels in evidential models\n",
    "NumB_df = [0]*num_fac\n",
    "\n",
    "for i in range(num_fac):\n",
    "    NumB_df[i] = input_file_df.loc[input_file_df.iloc[:,i+4] > threshold_fac].shape[0]\n",
    "    \n",
    "print(NumB_df)    "
   ]
  },
  {
   "cell_type": "code",
   "execution_count": 31,
   "id": "442657d5",
   "metadata": {},
   "outputs": [
    {
     "name": "stdout",
     "output_type": "stream",
     "text": [
      "[11678, 1548, 10, 98, 2, 312, 9330, 12097]\n",
      "[2664, 12794, 14332, 14244, 14340, 14030, 5012, 2245]\n",
      "[411512, 42701, 210, 2160, 6, 4124, 288374, 423814]\n",
      "[103357, 472168, 514659, 512709, 514863, 510745, 226495, 91055]\n"
     ]
    }
   ],
   "source": [
    "# NumBD: number of intersected mineralization-bearing voxels and anomalous voxels of evidential models\n",
    "# \"_abs\" means in the absence of the last parameter before underscore\n",
    "\n",
    "NumBD_df = [0]*num_fac\n",
    "NumB_absD_df = [0]*num_fac\n",
    "NumBD_abs_df = [0]*num_fac\n",
    "NumB_absD_abs_df = [0]*num_fac\n",
    "\n",
    "for i in range(num_fac):\n",
    "    NumBD_df[i] = input_file_df.loc[(input_file_df['Grade'] > threshold_target) & (input_file_df.iloc[:,i+4] > threshold_fac)].shape[0]   \n",
    "    NumB_absD_df[i] = input_file_df.loc[(input_file_df['Grade'] > threshold_target) & (input_file_df.iloc[:,i+4] <= threshold_fac)].shape[0]   \n",
    "    NumBD_abs_df[i] = input_file_df.loc[(input_file_df['Grade'] <= threshold_target) & (input_file_df.iloc[:,i+4] > threshold_fac)].shape[0]   \n",
    "    NumB_absD_abs_df[i] = input_file_df.loc[(input_file_df['Grade'] <= threshold_target) & (input_file_df.iloc[:,i+4] <= threshold_fac)].shape[0]   \n",
    "    \n",
    "print(NumBD_df)\n",
    "print(NumB_absD_df)\n",
    "print(NumBD_abs_df)\n",
    "print(NumB_absD_abs_df)\n",
    "#, \"w\", newline=''"
   ]
  },
  {
   "cell_type": "code",
   "execution_count": 65,
   "id": "73b13a9f",
   "metadata": {},
   "outputs": [],
   "source": [
    "# Probabilities, odds and logits\n",
    "ProBD_df = [i / float(NumD_df) for i in NumBD_df]\n",
    "\n",
    "ProBD_abs_df = []\n",
    "for i in range(num_fac):\n",
    "    ProBD_abs_df.append((float(NumB_df[i])-float(NumBD_df[i]))/(NumT_df-NumD_df))\n",
    "\n",
    "ProB_absD_df = []\n",
    "for i in range(num_fac):\n",
    "    ProB_absD_df.append((NumD_df-float(NumBD_df[i]))/NumD_df)\n",
    "\n",
    "ProB_absD_abs_df = []\n",
    "for i in range(num_fac):\n",
    "    ProB_absD_abs_df.append((NumT_df-float(NumB_df[i])-NumD_df+float(NumBD_df[i]))/(NumT_df-NumD_df))\n",
    "ProB_absD_abs_df   \n",
    "\n",
    "LS_df = []\n",
    "for i in range(num_fac):\n",
    "    if float(ProBD_abs_df[i]) != 0:\n",
    "        LS_df.append(float(ProBD_df[i])/float(ProBD_abs_df[i]))\n",
    "    else:\n",
    "        LS_df.append(\"Null\")\n",
    "\n",
    "W_pos_df = []\n",
    "for i in range(num_fac):\n",
    "    if row[i] != \"Null\" and float(LS_df[i]) != 0:\n",
    "        W_pos_df.append(math.log(float(LS_df[i])))\n",
    "    else:\n",
    "        W_pos_df.append(\"Null\")\n",
    "        \n",
    "LN_df = []\n",
    "for i in range(num_fac):\n",
    "    if float(ProB_absD_abs_df[i]) != 0:\n",
    "        LN_df.append(float(ProB_absD[i])/float(ProB_absD_abs_df[i]))\n",
    "    else:\n",
    "        LN_df.append(\"Null\")\n",
    "        \n",
    "W_neg_df = []\n",
    "for i in range(num_fac):\n",
    "    if row[i] != \"Null\" and float(LN_df[i]) != 0:\n",
    "        W_neg_df.append(math.log(float(LN_df[i])))\n",
    "    else:\n",
    "        W_neg_df.append(\"Null\")        "
   ]
  },
  {
   "cell_type": "code",
   "execution_count": null,
   "id": "cc8ce68f",
   "metadata": {},
   "outputs": [],
   "source": [
    "# Contrast\n",
    "contrast_df = []\n",
    "for i in range(num_fac):\n",
    "    if W_pos_df[i] != \"Null\" and W_neg_df[i] != \"Null\":\n",
    "        contrast_df.append(float(W_pos_df[i])-float(W_neg_df[i]))\n",
    "    else:\n",
    "        contrast_df.append(\"Null\")"
   ]
  },
  {
   "cell_type": "code",
   "execution_count": 74,
   "id": "28fbe1a8",
   "metadata": {},
   "outputs": [],
   "source": [
    "# Variance and standard deviation of positive and negative weights\n",
    "var_w_pos_df = []\n",
    "std_w_pos_df = []\n",
    "for i in range(num_fac):\n",
    "    if float(NumBD_df[i]) != 0 and float(NumBD_abs_df[i]) != 0:\n",
    "        var_w_pos_df.append((1/float(NumBD_df[i]))+(1/float(NumBD_abs_df[i])))\n",
    "        std_w_pos_df.append(math.sqrt((1/float(NumBD_df[i]))+(1/float(NumBD_abs_df[i]))))\n",
    "    else:\n",
    "        var_w_pos_df.append(\"Null\")\n",
    "        std_w_pos_df.append(\"Null\")\n",
    "\n",
    "var_w_neg_df = []\n",
    "std_w_neg_df = []\n",
    "for i in range(num_fac):\n",
    "    if float(NumB_absD_df[i]) != 0 and float(NumB_absD_abs_df[i]) != 0:\n",
    "        var_w_neg_df.append((1/float(NumB_absD_df[i]))+(1/float(NumB_absD_abs_df[i])))\n",
    "        std_w_neg_df.append(math.sqrt((1/float(NumB_absD_df[i]))+(1/float(NumB_absD_abs_df[i]))))\n",
    "    else:\n",
    "        var_w_neg_df.append(\"Null\")\n",
    "        std_w_neg_df.append(\"Null\")"
   ]
  },
  {
   "cell_type": "code",
   "execution_count": 81,
   "id": "3d8555a5",
   "metadata": {},
   "outputs": [],
   "source": [
    "# Variance and standard deviation of contrast\n",
    "var_contrast_df = []\n",
    "std_contrast_df = []\n",
    "for i in range(num_fac):\n",
    "    if var_w_pos_df[i] != \"Null\" and var_w_neg_df[i] != \"Null\":\n",
    "        var_contrast_df.append(float(var_w_pos_df[i])+float(var_w_neg_df[i]))\n",
    "        std_contrast_df.append(math.sqrt(float(var_w_pos_df[i])+float(var_w_neg_df[i])))\n",
    "    else:\n",
    "        var_contrast_df.append(\"Null\")\n",
    "        std_contrast_df.append(\"Null\")"
   ]
  },
  {
   "cell_type": "code",
   "execution_count": 85,
   "id": "88577b36",
   "metadata": {},
   "outputs": [],
   "source": [
    "# Studentized contrast\n",
    "contrast_stu_df = []\n",
    "for i in range(num_fac):\n",
    "    if contrast_df[i] != \"Null\" and row2[i] != \"Null\" and float(row2[i]) != 0:\n",
    "        contrast_stu_df.append(float(contrast_df[i])/float(row2[i]))\n",
    "    else:\n",
    "        contrast_stu_df.append(\"Null\")     "
   ]
  }
 ],
 "metadata": {
  "kernelspec": {
   "display_name": "Python [conda env:gempy2021]",
   "language": "python",
   "name": "conda-env-gempy2021-py"
  },
  "language_info": {
   "codemirror_mode": {
    "name": "ipython",
    "version": 3
   },
   "file_extension": ".py",
   "mimetype": "text/x-python",
   "name": "python",
   "nbconvert_exporter": "python",
   "pygments_lexer": "ipython3",
   "version": "3.8.8"
  }
 },
 "nbformat": 4,
 "nbformat_minor": 5
}
